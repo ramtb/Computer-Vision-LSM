{
 "cells": [
  {
   "cell_type": "code",
   "execution_count": 1,
   "metadata": {},
   "outputs": [],
   "source": [
    "import cv2\n",
    "import pandas as pd\n",
    "import sys\n",
    "import os\n",
    "\n",
    "# Agregar la carpeta base al sistema\n",
    "project_base = os.path.abspath('../../')\n",
    "sys.path.append(project_base)\n",
    "\n",
    "# Ahora importa el módulo\n",
    "from modules.config_camera import CameraHandler\n",
    "from modules.mod_data_base import interface as it, start as st, tracking as tr, show as sh, reset as res"
   ]
  },
  {
   "cell_type": "code",
   "execution_count": 2,
   "metadata": {},
   "outputs": [
    {
     "name": "stdout",
     "output_type": "stream",
     "text": [
      "Resolution: 1280,720\n",
      "using default camera\n",
      "Format: jpg,csv\n",
      "Waiting time: 3 seconds, Recording time: 2 seconds\n",
      "Selected Sign:A\n",
      "C://Users//angel//OneDrive//Documentos//Keet//dataset//test//A\n",
      "Folder 'A' already exists at 'C://Users//angel//OneDrive//Documentos//Keet//dataset//test'.\n",
      "Last element in the folder:22\n"
     ]
    },
    {
     "ename": "TypeError",
     "evalue": "'NoneType' object is not callable",
     "output_type": "error",
     "traceback": [
      "\u001b[1;31m---------------------------------------------------------------------------\u001b[0m",
      "\u001b[1;31mTypeError\u001b[0m                                 Traceback (most recent call last)",
      "Cell \u001b[1;32mIn[2], line 65\u001b[0m\n\u001b[0;32m     61\u001b[0m kdb\u001b[38;5;241m.\u001b[39mdisplay_mode_text(frame, width, height, DINAMIC)\n\u001b[0;32m     63\u001b[0m \u001b[38;5;66;03m########*   Interfaz ##################\u001b[39;00m\n\u001b[0;32m     64\u001b[0m \u001b[38;5;66;03m#print(lm_y_h1)    \u001b[39;00m\n\u001b[1;32m---> 65\u001b[0m Nimages, SAVED, timeflag, t, RECORDING, t1 \u001b[38;5;241m=\u001b[39m \u001b[43mkdb\u001b[49m\u001b[38;5;241;43m.\u001b[39;49m\u001b[43minterface\u001b[49m\u001b[43m(\u001b[49m\u001b[43mframe\u001b[49m\u001b[43m,\u001b[49m\u001b[43m \u001b[49m\u001b[43mwidth\u001b[49m\u001b[43m,\u001b[49m\u001b[43m \u001b[49m\u001b[43mheight\u001b[49m\u001b[43m,\u001b[49m\u001b[43m \u001b[49m\u001b[43mroi_save\u001b[49m\u001b[43m,\u001b[49m\u001b[43m \u001b[49m\u001b[43mfull_path\u001b[49m\u001b[43m,\u001b[49m\u001b[43m \u001b[49m\u001b[43mNimages\u001b[49m\u001b[43m,\u001b[49m\u001b[43m \u001b[49m\u001b[43mdf\u001b[49m\u001b[43m,\u001b[49m\u001b[43m \u001b[49m\u001b[43mSAVED\u001b[49m\u001b[43m,\u001b[49m\u001b[43m \u001b[49m\u001b[43mtimeflag\u001b[49m\u001b[43m,\u001b[49m\u001b[43m \u001b[49m\u001b[43mt\u001b[49m\u001b[43m,\u001b[49m\u001b[43m \u001b[49m\u001b[43mTs\u001b[49m\u001b[43m,\u001b[49m\u001b[43m \u001b[49m\u001b[43mtiempo_de_espera\u001b[49m\u001b[43m,\u001b[49m\u001b[43m \u001b[49m\u001b[43mRECORDING\u001b[49m\u001b[43m,\u001b[49m\u001b[43m \u001b[49m\u001b[43mt1\u001b[49m\u001b[43m,\u001b[49m\u001b[43m \u001b[49m\u001b[43mDINAMIC\u001b[49m\u001b[43m)\u001b[49m\n\u001b[0;32m     66\u001b[0m \u001b[38;5;66;03m#print(lm_y_h1)    \u001b[39;00m\n\u001b[0;32m     67\u001b[0m \n\u001b[0;32m     68\u001b[0m \u001b[38;5;66;03m##############* SHOW THE FRAMES #############\u001b[39;00m\n\u001b[0;32m     70\u001b[0m SAVED \u001b[38;5;241m=\u001b[39m sh\u001b[38;5;241m.\u001b[39mmain_show(frame, SAVED, width, height, roi_save, window_move, df, RECORDING, t1, save_len)\n",
      "File \u001b[1;32mc:\\Users\\angel\\OneDrive\\Documentos\\Keet\\GitHub\\Computer-vision-LSM\\modules\\keet_database.py:689\u001b[0m, in \u001b[0;36minterface\u001b[1;34m(frame, width, height, roi_save, full_path, Nimages, df, SAVED, timeflag, t, Ts, tiempo_de_espera, RECORDING, t1, DINAMIC)\u001b[0m\n\u001b[0;32m    687\u001b[0m \u001b[38;5;28;01mif\u001b[39;00m DINAMIC \u001b[38;5;241m==\u001b[39m \u001b[38;5;28;01mFalse\u001b[39;00m:\n\u001b[0;32m    688\u001b[0m     \u001b[38;5;28;01mif\u001b[39;00m \u001b[38;5;241m0\u001b[39m \u001b[38;5;241m<\u001b[39m \u001b[38;5;28mlen\u001b[39m(roi_save) \u001b[38;5;241m<\u001b[39m \u001b[38;5;241m3\u001b[39m:\n\u001b[1;32m--> 689\u001b[0m         Nimages, SAVED \u001b[38;5;241m=\u001b[39m \u001b[43mprocess_static_mode\u001b[49m\u001b[43m(\u001b[49m\u001b[43mframe\u001b[49m\u001b[43m,\u001b[49m\u001b[43m \u001b[49m\u001b[43mwidth\u001b[49m\u001b[43m,\u001b[49m\u001b[43m \u001b[49m\u001b[43mheight\u001b[49m\u001b[43m,\u001b[49m\u001b[43m \u001b[49m\u001b[43mroi_save\u001b[49m\u001b[43m,\u001b[49m\u001b[43m \u001b[49m\u001b[43mfull_path\u001b[49m\u001b[43m,\u001b[49m\u001b[43m \u001b[49m\u001b[43mNimages\u001b[49m\u001b[43m,\u001b[49m\u001b[43m \u001b[49m\u001b[43mdf\u001b[49m\u001b[43m,\u001b[49m\u001b[43m  \u001b[49m\u001b[43mSAVED\u001b[49m\u001b[43m)\u001b[49m\n\u001b[0;32m    690\u001b[0m     \u001b[38;5;28;01melif\u001b[39;00m \u001b[38;5;28mlen\u001b[39m(roi_save) \u001b[38;5;241m==\u001b[39m \u001b[38;5;241m0\u001b[39m:\n\u001b[0;32m    691\u001b[0m         show_message(frame, \u001b[38;5;124m'\u001b[39m\u001b[38;5;124mThere are no ROIS\u001b[39m\u001b[38;5;124m'\u001b[39m, (\u001b[38;5;241m0.3\u001b[39m, \u001b[38;5;241m0.9\u001b[39m), width, height)\n",
      "File \u001b[1;32mc:\\Users\\angel\\OneDrive\\Documentos\\Keet\\GitHub\\Computer-vision-LSM\\modules\\keet_database.py:591\u001b[0m, in \u001b[0;36mprocess_static_mode\u001b[1;34m(frame, width, height, roi_save, full_path, Nimages, df, SAVED)\u001b[0m\n\u001b[0;32m    589\u001b[0m key \u001b[38;5;241m=\u001b[39m cv2\u001b[38;5;241m.\u001b[39mwaitKey(\u001b[38;5;241m1\u001b[39m) \u001b[38;5;241m&\u001b[39m \u001b[38;5;241m0xFF\u001b[39m\n\u001b[0;32m    590\u001b[0m \u001b[38;5;28;01mif\u001b[39;00m key \u001b[38;5;241m==\u001b[39m \u001b[38;5;28mord\u001b[39m(\u001b[38;5;124m'\u001b[39m\u001b[38;5;124m1\u001b[39m\u001b[38;5;124m'\u001b[39m) \u001b[38;5;129;01mand\u001b[39;00m \u001b[38;5;28mlen\u001b[39m(roi_save) \u001b[38;5;241m>\u001b[39m \u001b[38;5;241m0\u001b[39m:\n\u001b[1;32m--> 591\u001b[0m     Nimages, SAVED \u001b[38;5;241m=\u001b[39m \u001b[43msave_roi\u001b[49m\u001b[43m(\u001b[49m\u001b[38;5;241;43m0\u001b[39;49m\u001b[43m,\u001b[49m\u001b[43m \u001b[49m\u001b[43mNimages\u001b[49m\u001b[43m,\u001b[49m\u001b[43m \u001b[49m\u001b[43mfull_path\u001b[49m\u001b[43m,\u001b[49m\u001b[43m \u001b[49m\u001b[43mroi_save\u001b[49m\u001b[43m,\u001b[49m\u001b[43m \u001b[49m\u001b[43mframe\u001b[49m\u001b[43m,\u001b[49m\u001b[43m \u001b[49m\u001b[43mwidth\u001b[49m\u001b[43m,\u001b[49m\u001b[43m \u001b[49m\u001b[43mheight\u001b[49m\u001b[43m,\u001b[49m\u001b[43m \u001b[49m\u001b[43mdf\u001b[49m\u001b[43m)\u001b[49m\n\u001b[0;32m    592\u001b[0m \u001b[38;5;28;01melif\u001b[39;00m key \u001b[38;5;241m==\u001b[39m \u001b[38;5;28mord\u001b[39m(\u001b[38;5;124m'\u001b[39m\u001b[38;5;124m2\u001b[39m\u001b[38;5;124m'\u001b[39m) \u001b[38;5;129;01mand\u001b[39;00m \u001b[38;5;28mlen\u001b[39m(roi_save) \u001b[38;5;241m>\u001b[39m \u001b[38;5;241m1\u001b[39m:\n\u001b[0;32m    593\u001b[0m     Nimages, SAVED \u001b[38;5;241m=\u001b[39m save_roi(\u001b[38;5;241m1\u001b[39m, Nimages, full_path, roi_save, frame, width, height, df)\n",
      "File \u001b[1;32mc:\\Users\\angel\\OneDrive\\Documentos\\Keet\\GitHub\\Computer-vision-LSM\\modules\\keet_database.py:537\u001b[0m, in \u001b[0;36msave_roi\u001b[1;34m(index, Nimages, full_path, roi_save, frame, width, height, df)\u001b[0m\n\u001b[0;32m    535\u001b[0m \u001b[38;5;28;01mglobal\u001b[39;00m lm_x_h1, lm_y_h1, lm_x_h2, lm_y_h2, lm_x_h1_roi, lm_y_h1_roi, lm_x_h2_roi, lm_y_h2_roi\n\u001b[0;32m    536\u001b[0m Nimages \u001b[38;5;241m+\u001b[39m\u001b[38;5;241m=\u001b[39m \u001b[38;5;241m1\u001b[39m\n\u001b[1;32m--> 537\u001b[0m cv2\u001b[38;5;241m.\u001b[39mimwrite(full_path \u001b[38;5;241m+\u001b[39m \u001b[38;5;124m'\u001b[39m\u001b[38;5;130;01m\\\\\u001b[39;00m\u001b[38;5;124m'\u001b[39m \u001b[38;5;241m+\u001b[39m \u001b[43mLetra\u001b[49m\u001b[43m(\u001b[49m\u001b[43mNimages\u001b[49m\u001b[43m)\u001b[49m, roi_save[index])\n\u001b[0;32m    538\u001b[0m cv2\u001b[38;5;241m.\u001b[39mputText(frame, \u001b[38;5;124mf\u001b[39m\u001b[38;5;124m'\u001b[39m\u001b[38;5;124mROI \u001b[39m\u001b[38;5;132;01m{\u001b[39;00mindex\u001b[38;5;241m+\u001b[39m\u001b[38;5;241m1\u001b[39m\u001b[38;5;132;01m}\u001b[39;00m\u001b[38;5;124m SAVED\u001b[39m\u001b[38;5;124m'\u001b[39m, (\u001b[38;5;28mint\u001b[39m(width\u001b[38;5;241m*\u001b[39m\u001b[38;5;241m0.36\u001b[39m),\u001b[38;5;28mint\u001b[39m(height\u001b[38;5;241m*\u001b[39m\u001b[38;5;241m0.4\u001b[39m)), cv2\u001b[38;5;241m.\u001b[39mFONT_HERSHEY_SIMPLEX, \u001b[38;5;241m2\u001b[39m, (\u001b[38;5;241m0\u001b[39m,\u001b[38;5;241m0\u001b[39m,\u001b[38;5;241m255\u001b[39m), \u001b[38;5;241m2\u001b[39m)\n\u001b[0;32m    539\u001b[0m \u001b[38;5;28;01mif\u001b[39;00m index \u001b[38;5;241m==\u001b[39m \u001b[38;5;241m0\u001b[39m:\n",
      "\u001b[1;31mTypeError\u001b[0m: 'NoneType' object is not callable"
     ]
    }
   ],
   "source": [
    "############################################################################################################*\n",
    "#########* CAMERA SETTINGS ###########\n",
    "camera = CameraHandler(camera_index=1, width_screen=1280, height_screen=720) ### 0 is the default camera, 1 is the external camera\n",
    "\n",
    "camera.set_resolution(camera.width_screen, camera.height_screen) ### Set the resolution of the window of the frame\n",
    "width, height = camera.get_resolution() ### Get the resolution of the camera\n",
    "print('camera resolution',width, height)\n",
    "\n",
    "#########* PARAMETERS ###########\n",
    "\n",
    "imgformat, dataformat, tiempo_de_espera, ventana_de_tiempo = st.format(imgformat = 'jpg', dataformat= 'csv', waiting_time= 3, record_time = 2)\n",
    "\n",
    "#############* FOLDER ###############\n",
    "\n",
    "folder_name, full_path, elements  = st.folder()\n",
    "\n",
    "##########* Begin parameters ################# \n",
    "\n",
    "Nimages, df,save_len, cTime, pTime, dinamic_count, point_save= st.parameters(elements)\n",
    "\n",
    "Letra, csv = st.save_number(imgformat, dataformat, folder_name)\n",
    "\n",
    "SAVED, DINAMIC, RECORDING = st.constants()\n",
    "\n",
    "time_frames, t, t1, timeflag = st.time_set()\n",
    "\n",
    "num_hand = st.n_hand()\n",
    "\n",
    "\n",
    "mpHands, hands, mpDraw = st.hand_medipip(num_hand)\n",
    "\n",
    "window_move = st.wind_move(roi1_x=0.1, roi1_y=0.4, roi2_x=0.1, roi2_y=0.6)\n",
    "\n",
    "cTime, pTime, fps, Ts, time_frames = st.frame_settings()\n",
    "\n",
    "#*FIRTS ARGUMENT FOR ROI 1 AND THE SECOND FOR ROI 2\n",
    "\n",
    "###################* While loop for tracking    #################  \n",
    "\n",
    "while True:\n",
    "    ret, frame, frame_copy, frame_gray, frame_equali, results = tr.read_frames(camera,hands,equali=True)\n",
    "    #print(frame.shape)\n",
    "    \n",
    "    roi_save, save_len, point_save, lm_x_h1, lm_y_h1, lm_x_h2, lm_y_h2, lm_x_h1_roi, lm_y_h1_roi, lm_x_h2_roi, lm_y_h2_roi,flag = tr.process_hand_landmarks( point_save, frame_equali, results, width, height, t, tiempo_de_espera\n",
    "                                                    ,save_len,print_lm=False, size_roi = 0.087)         \n",
    "                \n",
    "    #*######### ENDS IF ##############\n",
    "        \n",
    "    cTime, fps, Ts, pTime, time_frames = tr.ends_if(cTime, fps, Ts, pTime, time_frames)\n",
    "        \n",
    "    #print(t)\n",
    "        \n",
    "    ################* DRAW RECTANGULOS and text ###############\n",
    "\n",
    "    it.draw_text_and_rectangles(point_save, frame, width, height, fps, draw_rectangules=True,draw_text=True)\n",
    "\n",
    "    #####* DINAMIC A STATIC #######################\n",
    "\n",
    "    DINAMIC = it.update_mode(DINAMIC)\n",
    "\n",
    "    #########* TEXT OF DINAMIC OR STATIC #############\n",
    "\n",
    "    it.display_mode_text(frame, width, height, DINAMIC)\n",
    "        \n",
    "    ########*   Interfaz ##################\n",
    "    #print(lm_y_h1)    \n",
    "    Nimages, SAVED, timeflag, t, RECORDING, t1 = it.interface(frame, width, height, roi_save, full_path, Nimages, df, SAVED, timeflag, t, Ts, tiempo_de_espera, RECORDING, t1, DINAMIC)\n",
    "    #print(lm_y_h1)    \n",
    "    \n",
    "    ##############* SHOW THE FRAMES #############\n",
    "\n",
    "    SAVED = sh.main_show(frame, SAVED, width, height, roi_save, window_move, df, RECORDING, t1, save_len)\n",
    "        \n",
    "    #####* RESET THE LIST ########\n",
    "\n",
    "    roi_save, point_save= res.reset_save(roi_save)\n",
    "        \n",
    "    df, RECORDING, t1, save_len, lm_x_h1, lm_y_h1, lm_x_h2, lm_y_h2, lm_x_h1_roi, lm_y_h1_roi, lm_x_h2_roi, lm_y_h2_roi = res.fals_dinam(DINAMIC, df, RECORDING, t1, save_len)    \n",
    "        \n",
    "    df, RECORDING, t1, save_len, Nimages, lm_x_h1, lm_y_h1, lm_x_h2, lm_y_h2, lm_x_h1_roi, lm_y_h1_roi, lm_x_h2_roi, lm_y_h2_roi = res.tru_dinam(DINAMIC, df, RECORDING, t1, save_len, ventana_de_tiempo, full_path, Nimages, width, height, frame)\n",
    "\n",
    "    \n",
    "    ###* EXIT\n",
    "        \n",
    "    if cv2.waitKey(1) & 0xFF == ord('q'):\n",
    "        break   #press q for exit\n",
    "camera.release_camera()\n",
    "cv2.destroyAllWindows()\n"
   ]
  },
  {
   "cell_type": "code",
   "execution_count": 5,
   "metadata": {},
   "outputs": [
    {
     "data": {
      "text/plain": [
       "'Windows'"
      ]
     },
     "execution_count": 5,
     "metadata": {},
     "output_type": "execute_result"
    }
   ],
   "source": [
    "import platform\n",
    "\n",
    "# Obtener el sistema operativo\n",
    "os_name = platform.system()\n",
    "os_name"
   ]
  },
  {
   "cell_type": "code",
   "execution_count": 1,
   "metadata": {},
   "outputs": [
    {
     "name": "stdout",
     "output_type": "stream",
     "text": [
      "1.5271198749542236\n"
     ]
    }
   ],
   "source": [
    "import time\n",
    "import numpy as np\n",
    "time1 = time.time()\n",
    "lista = []\n",
    "for i in range(10000000):\n",
    "    lista.append(i)\n",
    "time2 = time.time()\n",
    "print(time2-time1)"
   ]
  },
  {
   "cell_type": "code",
   "execution_count": 2,
   "metadata": {},
   "outputs": [
    {
     "name": "stdout",
     "output_type": "stream",
     "text": [
      "2.284773588180542\n"
     ]
    }
   ],
   "source": [
    "time1 = time.time()\n",
    "lista = np.zeros(10000000)\n",
    "for i in range(10000000):\n",
    "    lista[i] = i\n",
    "time2 = time.time()\n",
    "print(time2-time1)\n"
   ]
  },
  {
   "cell_type": "code",
   "execution_count": 4,
   "metadata": {},
   "outputs": [],
   "source": [
    "import numpy as np\n",
    "x = np.linspace(1, 21, 21)\n",
    "x = x.reshape(21, 1)\n",
    "x\n",
    "y = np.array([1])\n"
   ]
  },
  {
   "cell_type": "code",
   "execution_count": 4,
   "metadata": {},
   "outputs": [
    {
     "data": {
      "text/plain": [
       "array([[ 1.],\n",
       "       [ 2.],\n",
       "       [ 3.],\n",
       "       [ 4.],\n",
       "       [ 5.],\n",
       "       [ 6.],\n",
       "       [ 7.],\n",
       "       [ 8.],\n",
       "       [ 9.],\n",
       "       [10.],\n",
       "       [11.],\n",
       "       [12.],\n",
       "       [13.],\n",
       "       [14.],\n",
       "       [15.],\n",
       "       [16.],\n",
       "       [17.],\n",
       "       [18.],\n",
       "       [19.],\n",
       "       [20.],\n",
       "       [21.]])"
      ]
     },
     "execution_count": 4,
     "metadata": {},
     "output_type": "execute_result"
    }
   ],
   "source": [
    "x"
   ]
  },
  {
   "cell_type": "code",
   "execution_count": 8,
   "metadata": {},
   "outputs": [
    {
     "data": {
      "text/plain": [
       "[]"
      ]
     },
     "execution_count": 8,
     "metadata": {},
     "output_type": "execute_result"
    }
   ],
   "source": [
    "point_save"
   ]
  },
  {
   "cell_type": "code",
   "execution_count": 9,
   "metadata": {},
   "outputs": [
    {
     "ename": "TypeError",
     "evalue": "list indices must be integers or slices, not str",
     "output_type": "error",
     "traceback": [
      "\u001b[1;31m---------------------------------------------------------------------------\u001b[0m",
      "\u001b[1;31mTypeError\u001b[0m                                 Traceback (most recent call last)",
      "Cell \u001b[1;32mIn[9], line 1\u001b[0m\n\u001b[1;32m----> 1\u001b[0m \u001b[43mpoint_save\u001b[49m\u001b[43m[\u001b[49m\u001b[38;5;124;43m'\u001b[39;49m\u001b[38;5;124;43mh1_x_min\u001b[39;49m\u001b[38;5;124;43m'\u001b[39;49m\u001b[43m]\u001b[49m \u001b[38;5;241m=\u001b[39m \u001b[38;5;241m1\u001b[39m\n\u001b[0;32m      2\u001b[0m point_save\n",
      "\u001b[1;31mTypeError\u001b[0m: list indices must be integers or slices, not str"
     ]
    }
   ],
   "source": [
    "point_save['h1_x_min'] = 1\n",
    "point_save\n"
   ]
  },
  {
   "cell_type": "code",
   "execution_count": 5,
   "metadata": {},
   "outputs": [
    {
     "data": {
      "text/plain": [
       "True"
      ]
     },
     "execution_count": 5,
     "metadata": {},
     "output_type": "execute_result"
    }
   ],
   "source": [
    "np.any(x)"
   ]
  },
  {
   "cell_type": "code",
   "execution_count": 17,
   "metadata": {},
   "outputs": [
    {
     "data": {
      "text/plain": [
       "True"
      ]
     },
     "execution_count": 17,
     "metadata": {},
     "output_type": "execute_result"
    }
   ],
   "source": [
    "np.any(y)"
   ]
  },
  {
   "cell_type": "code",
   "execution_count": 8,
   "metadata": {},
   "outputs": [
    {
     "data": {
      "text/plain": [
       "1"
      ]
     },
     "execution_count": 8,
     "metadata": {},
     "output_type": "execute_result"
    }
   ],
   "source": [
    "\n",
    "int(x[0])"
   ]
  },
  {
   "cell_type": "code",
   "execution_count": 7,
   "metadata": {},
   "outputs": [
    {
     "data": {
      "text/plain": [
       "6"
      ]
     },
     "execution_count": 7,
     "metadata": {},
     "output_type": "execute_result"
    }
   ],
   "source": [
    "x = {'a' :5, 'b': 6}\n",
    "max(x.values())"
   ]
  },
  {
   "cell_type": "code",
   "execution_count": 17,
   "metadata": {},
   "outputs": [
    {
     "data": {
      "text/plain": [
       "[5, 6]"
      ]
     },
     "execution_count": 17,
     "metadata": {},
     "output_type": "execute_result"
    }
   ],
   "source": [
    "import numpy as np\n",
    "list(x.values())"
   ]
  }
 ],
 "metadata": {
  "kernelspec": {
   "display_name": "Python 3",
   "language": "python",
   "name": "python3"
  },
  "language_info": {
   "codemirror_mode": {
    "name": "ipython",
    "version": 3
   },
   "file_extension": ".py",
   "mimetype": "text/x-python",
   "name": "python",
   "nbconvert_exporter": "python",
   "pygments_lexer": "ipython3",
   "version": "3.11.9"
  }
 },
 "nbformat": 4,
 "nbformat_minor": 2
}
