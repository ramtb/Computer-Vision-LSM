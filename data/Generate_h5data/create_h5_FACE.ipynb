{
 "cells": [
  {
   "cell_type": "markdown",
   "metadata": {},
   "source": [
    "### CREATE .h5 data"
   ]
  },
  {
   "cell_type": "code",
   "execution_count": 1,
   "metadata": {},
   "outputs": [],
   "source": [
    "import h5py as h5 ###* A library to read and write hdf5 files\n",
    "import numpy as np\n",
    "import pandas as pd\n",
    "import matplotlib.pyplot as plt\n",
    "import os"
   ]
  },
  {
   "cell_type": "code",
   "execution_count": 4,
   "metadata": {},
   "outputs": [
    {
     "data": {
      "text/plain": [
       "['enojado', 'feliz', 'neutral', 'sorpresa', 'triste']"
      ]
     },
     "execution_count": 4,
     "metadata": {},
     "output_type": "execute_result"
    }
   ],
   "source": [
    "base_path = 'C:\\\\Users\\hgera\\OneDrive\\Escritorio\\Computer-vision-LSM\\data\\dataset\\Faces'\n",
    "base_path = base_path.replace('\\\\', os.path.sep) ###* Replace the backslash with the correct separator\n",
    "faces = os.listdir(base_path) ###* List of the letters to write in hdf5\n",
    "faces"
   ]
  },
  {
   "cell_type": "code",
   "execution_count": null,
   "metadata": {},
   "outputs": [],
   "source": [
    "data = {}   ###* Dictionary to store the data of the letters\n",
    "for face in faces:\n",
    "    face_path = os.path.join(base_path, f'{face}') ###* Path to the folder e\n",
    "    csv_files = [f for f in os.listdir(face_path) if f.endswith('.csv')] ###* List of the csv files in the folder\n",
    "    # print(csv_files) \n",
    "    positions = [] ###* List to store the positions of the letter\n",
    "    for csv_file in csv_files: ###* Iterate over the csv files\n",
    "        file_path = os.path.join(face_path, csv_file) ###* Path to the csv file\n",
    "        df = pd.read_csv(file_path, header=0 ) ###* Read the csv file\n",
    "        # df = df.drop(columns=['cz'])\n",
    "        positions.append(df.values.reshape(df.values.shape[0]*df.values.shape[1],1)) ###* Append the values of the csv file to the list\n",
    "    positions = np.concatenate(positions, axis=1) ###* Concatenate the values of the cs\n",
    "    data[face] = positions ###* Concatenate the positions "
   ]
  },
  {
   "cell_type": "code",
   "execution_count": 7,
   "metadata": {},
   "outputs": [
    {
     "name": "stdout",
     "output_type": "stream",
     "text": [
      "enojado: (936, 3197)\n",
      "feliz: (936, 5043)\n",
      "neutral: (936, 5124)\n",
      "sorpresa: (936, 4033)\n",
      "triste: (936, 3079)\n"
     ]
    }
   ],
   "source": [
    "for face in faces:\n",
    "    print(f'{face}: {data[face].shape}')    \n"
   ]
  },
  {
   "cell_type": "code",
   "execution_count": 5,
   "metadata": {},
   "outputs": [],
   "source": [
    "# del faces[0] ###* Delete the face 'Disgusto'\n",
    "# del faces[0] ###* Delete the face 'Enojo'\n",
    "# del faces[1] ###* Delete the face 'Miedo'\n",
    "# del data['Disgusto'] ###* Delete the face 'Disgusto'\n",
    "# del data['Enojo'] ###* Delete the face 'Enojo'"
   ]
  },
  {
   "cell_type": "code",
   "execution_count": 8,
   "metadata": {},
   "outputs": [
    {
     "data": {
      "text/plain": [
       "['enojado', 'feliz', 'neutral', 'sorpresa', 'triste']"
      ]
     },
     "execution_count": 8,
     "metadata": {},
     "output_type": "execute_result"
    }
   ],
   "source": [
    "faces"
   ]
  },
  {
   "cell_type": "code",
   "execution_count": 9,
   "metadata": {},
   "outputs": [
    {
     "name": "stdout",
     "output_type": "stream",
     "text": [
      "enojado: (936, 3079)\n",
      "feliz: (936, 3079)\n",
      "neutral: (936, 3079)\n",
      "sorpresa: (936, 3079)\n",
      "triste: (936, 3079)\n"
     ]
    }
   ],
   "source": [
    "for face in faces:\n",
    "    data[face] = data[face][:,:3079] ###* Take the first  values of the faces\n",
    "for face in faces:\n",
    "    print(f'{face}: {data[face].shape}')    \n"
   ]
  },
  {
   "cell_type": "markdown",
   "metadata": {},
   "source": [
    "### FIRST dimension are the positions the second is the number of examples\n",
    "### face.shape -> (nx,m) nx are the caracteristics and m is the number of examples"
   ]
  },
  {
   "cell_type": "markdown",
   "metadata": {},
   "source": [
    "### ALL mi positions for letters are flatenned"
   ]
  },
  {
   "cell_type": "code",
   "execution_count": 10,
   "metadata": {},
   "outputs": [
    {
     "data": {
      "text/html": [
       "<div>\n",
       "<style scoped>\n",
       "    .dataframe tbody tr th:only-of-type {\n",
       "        vertical-align: middle;\n",
       "    }\n",
       "\n",
       "    .dataframe tbody tr th {\n",
       "        vertical-align: top;\n",
       "    }\n",
       "\n",
       "    .dataframe thead th {\n",
       "        text-align: right;\n",
       "    }\n",
       "</style>\n",
       "<table border=\"1\" class=\"dataframe\">\n",
       "  <thead>\n",
       "    <tr style=\"text-align: right;\">\n",
       "      <th></th>\n",
       "      <th>cx</th>\n",
       "      <th>cy</th>\n",
       "    </tr>\n",
       "  </thead>\n",
       "  <tbody>\n",
       "    <tr>\n",
       "      <th>0</th>\n",
       "      <td>47</td>\n",
       "      <td>71</td>\n",
       "    </tr>\n",
       "    <tr>\n",
       "      <th>1</th>\n",
       "      <td>45</td>\n",
       "      <td>60</td>\n",
       "    </tr>\n",
       "    <tr>\n",
       "      <th>2</th>\n",
       "      <td>46</td>\n",
       "      <td>63</td>\n",
       "    </tr>\n",
       "    <tr>\n",
       "      <th>3</th>\n",
       "      <td>41</td>\n",
       "      <td>49</td>\n",
       "    </tr>\n",
       "    <tr>\n",
       "      <th>4</th>\n",
       "      <td>45</td>\n",
       "      <td>57</td>\n",
       "    </tr>\n",
       "    <tr>\n",
       "      <th>...</th>\n",
       "      <td>...</td>\n",
       "      <td>...</td>\n",
       "    </tr>\n",
       "    <tr>\n",
       "      <th>463</th>\n",
       "      <td>52</td>\n",
       "      <td>37</td>\n",
       "    </tr>\n",
       "    <tr>\n",
       "      <th>464</th>\n",
       "      <td>51</td>\n",
       "      <td>39</td>\n",
       "    </tr>\n",
       "    <tr>\n",
       "      <th>465</th>\n",
       "      <td>50</td>\n",
       "      <td>39</td>\n",
       "    </tr>\n",
       "    <tr>\n",
       "      <th>466</th>\n",
       "      <td>69</td>\n",
       "      <td>34</td>\n",
       "    </tr>\n",
       "    <tr>\n",
       "      <th>467</th>\n",
       "      <td>71</td>\n",
       "      <td>32</td>\n",
       "    </tr>\n",
       "  </tbody>\n",
       "</table>\n",
       "<p>468 rows × 2 columns</p>\n",
       "</div>"
      ],
      "text/plain": [
       "     cx  cy\n",
       "0    47  71\n",
       "1    45  60\n",
       "2    46  63\n",
       "3    41  49\n",
       "4    45  57\n",
       "..   ..  ..\n",
       "463  52  37\n",
       "464  51  39\n",
       "465  50  39\n",
       "466  69  34\n",
       "467  71  32\n",
       "\n",
       "[468 rows x 2 columns]"
      ]
     },
     "execution_count": 10,
     "metadata": {},
     "output_type": "execute_result"
    }
   ],
   "source": [
    "df"
   ]
  },
  {
   "cell_type": "markdown",
   "metadata": {},
   "source": [
    "### This make sense because we have m csv files, and for each csv we have a 468X2 data"
   ]
  },
  {
   "cell_type": "markdown",
   "metadata": {},
   "source": [
    "#### Let's to write a.h5 file to store all the data"
   ]
  },
  {
   "cell_type": "code",
   "execution_count": 15,
   "metadata": {},
   "outputs": [
    {
     "name": "stdout",
     "output_type": "stream",
     "text": [
      "save_path: C:\\Users\\hgera\\OneDrive\\Escritorio\\Computer-vision-LSM\\data\\features\\positions_FACES_v2.h5\n"
     ]
    }
   ],
   "source": [
    "save_path = 'C:\\\\Users\\hgera\\OneDrive\\Escritorio\\Computer-vision-LSM\\data\\\\features\\positions_FACES_v2.h5'\n",
    "save_path = save_path.replace('\\\\', os.path.sep) ###* Replace the backslash with the correct separator\n",
    "print('save_path:', save_path)\n",
    "with h5.File(save_path, 'w') as h5file:\n",
    "    for face, positions in data.items():\n",
    "        grp = h5file.create_group(face)\n",
    "        grp.create_dataset('positions', data=positions)"
   ]
  },
  {
   "cell_type": "markdown",
   "metadata": {},
   "source": [
    "### Let's to visualizase our dataset of 5 emotions"
   ]
  },
  {
   "cell_type": "code",
   "execution_count": 16,
   "metadata": {},
   "outputs": [],
   "source": [
    "dataset = h5.File(save_path, 'r')\n",
    "# type(dataset)"
   ]
  },
  {
   "cell_type": "code",
   "execution_count": 17,
   "metadata": {},
   "outputs": [
    {
     "name": "stdout",
     "output_type": "stream",
     "text": [
      "(936, 3079)\n",
      "(936, 3079)\n",
      "(936, 3079)\n",
      "(936, 3079)\n",
      "(936, 3079)\n"
     ]
    }
   ],
   "source": [
    "with h5.File(save_path, 'r') as h5file:\n",
    "    data = []\n",
    "    labels = []\n",
    "    for letter in h5file.keys():\n",
    "        positions = h5file[letter]['positions'][:]\n",
    "        data.append(positions)\n",
    "        print(positions.shape)\n",
    "        labels.extend([letter]  )\n",
    "\n",
    "labels = np.array(labels)\n",
    "labels = np.reshape(labels, (labels.shape[0], 1))\n"
   ]
  },
  {
   "cell_type": "code",
   "execution_count": 18,
   "metadata": {},
   "outputs": [
    {
     "data": {
      "text/plain": [
       "array([['enojado'],\n",
       "       ['feliz'],\n",
       "       ['neutral'],\n",
       "       ['sorpresa'],\n",
       "       ['triste']], dtype='<U8')"
      ]
     },
     "execution_count": 18,
     "metadata": {},
     "output_type": "execute_result"
    }
   ],
   "source": [
    "labels"
   ]
  },
  {
   "cell_type": "markdown",
   "metadata": {},
   "source": []
  }
 ],
 "metadata": {
  "kernelspec": {
   "display_name": "env",
   "language": "python",
   "name": "python3"
  },
  "language_info": {
   "codemirror_mode": {
    "name": "ipython",
    "version": 3
   },
   "file_extension": ".py",
   "mimetype": "text/x-python",
   "name": "python",
   "nbconvert_exporter": "python",
   "pygments_lexer": "ipython3",
   "version": "3.11.5"
  }
 },
 "nbformat": 4,
 "nbformat_minor": 2
}
